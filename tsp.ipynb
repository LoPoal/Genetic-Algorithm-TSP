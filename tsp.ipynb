{
 "cells": [
  {
   "cell_type": "code",
   "execution_count": 1,
   "metadata": {
    "collapsed": false
   },
   "outputs": [],
   "source": [
    "import random\n",
    "import math\n",
    "import numpy as np\n",
    "import pandas as pd\n",
    "import matplotlib.pyplot as plt\n",
    "from IPython.display import Image\n",
    "from tqdm import tqdm"
   ]
  },
  {
   "cell_type": "markdown",
   "metadata": {},
   "source": [
    "# Creating distance array"
   ]
  },
  {
   "cell_type": "markdown",
   "metadata": {
    "collapsed": false
   },
   "source": [
    "\n",
    "<img src=\"./tsp-nodes.jpg\"/>"
   ]
  },
  {
   "cell_type": "markdown",
   "metadata": {},
   "source": [
    "We Create a markup table with all distances. <br/>\n",
    "Since We have only bottom part\n",
    "<img src=\"./unknown.png\"/>\n",
    "We need to add a mirror copy like above"
   ]
  },
  {
   "cell_type": "code",
   "execution_count": 187,
   "metadata": {
    "collapsed": true
   },
   "outputs": [],
   "source": [
    "import sys\n",
    "\n",
    "fileName = sys.argv[1] or 'berlin52'\n",
    "folder = 'data/'"
   ]
  },
  {
   "cell_type": "code",
   "execution_count": 99,
   "metadata": {
    "collapsed": false
   },
   "outputs": [
    {
     "name": "stdout",
     "output_type": "stream",
     "text": [
      "52\n"
     ]
    }
   ],
   "source": [
    "\n",
    "f = open(folder+fileName + '.txt','r')\n",
    "string = \"\"\n",
    "arrayTSP = []\n",
    "index = int(f.readline())\n",
    "for i in range(index):\n",
    "    line = f.readline()\n",
    "    row = line.split(' ')[:-1]\n",
    "    arrayTSP.append(row)\n",
    "    \n",
    "    for ii, val in enumerate(row):\n",
    "        if(val is not '0'):\n",
    "            arrayTSP[ii].append(val)\n",
    "\n",
    "    string += line\n",
    "\n",
    "print(len(arrayTSP))\n",
    "f.close()"
   ]
  },
  {
   "cell_type": "markdown",
   "metadata": {},
   "source": [
    "# Creating City Array"
   ]
  },
  {
   "cell_type": "code",
   "execution_count": 62,
   "metadata": {
    "collapsed": true
   },
   "outputs": [],
   "source": [
    "class City:\n",
    "    def __init__(self, index, x, y):\n",
    "        self.x = float(x)\n",
    "        self.y = float(y)\n",
    "        self.index = int(index)-1\n",
    "    \n"
   ]
  },
  {
   "cell_type": "code",
   "execution_count": 181,
   "metadata": {
    "collapsed": false
   },
   "outputs": [
    {
     "ename": "TypeError",
     "evalue": "Can't convert 'list' object to str implicitly",
     "output_type": "error",
     "traceback": [
      "\u001b[0;31m---------------------------------------------------------------------------\u001b[0m",
      "\u001b[0;31mTypeError\u001b[0m                                 Traceback (most recent call last)",
      "\u001b[0;32m<ipython-input-181-df56514e74a7>\u001b[0m in \u001b[0;36m<module>\u001b[0;34m()\u001b[0m\n\u001b[1;32m      1\u001b[0m \u001b[0mstring\u001b[0m \u001b[1;33m=\u001b[0m \u001b[1;34m\"\"\u001b[0m\u001b[1;33m\u001b[0m\u001b[0m\n\u001b[1;32m      2\u001b[0m \u001b[0mcitiesPop\u001b[0m \u001b[1;33m=\u001b[0m \u001b[1;33m[\u001b[0m\u001b[1;33m]\u001b[0m\u001b[1;33m\u001b[0m\u001b[0m\n\u001b[0;32m----> 3\u001b[0;31m \u001b[1;32mwith\u001b[0m \u001b[0mopen\u001b[0m\u001b[1;33m(\u001b[0m\u001b[0mfolder\u001b[0m\u001b[1;33m+\u001b[0m\u001b[0mfileName\u001b[0m \u001b[1;33m+\u001b[0m \u001b[1;34m'.tsp'\u001b[0m\u001b[1;33m,\u001b[0m \u001b[1;34m'r'\u001b[0m\u001b[1;33m)\u001b[0m \u001b[1;32mas\u001b[0m \u001b[0mf\u001b[0m\u001b[1;33m:\u001b[0m\u001b[1;33m\u001b[0m\u001b[0m\n\u001b[0m\u001b[1;32m      4\u001b[0m     \u001b[0mlines\u001b[0m \u001b[1;33m=\u001b[0m \u001b[0mf\u001b[0m\u001b[1;33m.\u001b[0m\u001b[0mreadlines\u001b[0m\u001b[1;33m(\u001b[0m\u001b[1;33m)\u001b[0m\u001b[1;33m[\u001b[0m\u001b[1;36m6\u001b[0m\u001b[1;33m:\u001b[0m\u001b[1;33m-\u001b[0m\u001b[1;36m1\u001b[0m\u001b[1;33m]\u001b[0m\u001b[1;33m\u001b[0m\u001b[0m\n\u001b[1;32m      5\u001b[0m     \u001b[1;32mfor\u001b[0m \u001b[0mi\u001b[0m \u001b[1;32min\u001b[0m \u001b[0mrange\u001b[0m\u001b[1;33m(\u001b[0m\u001b[0mindex\u001b[0m\u001b[1;33m)\u001b[0m\u001b[1;33m:\u001b[0m\u001b[1;33m\u001b[0m\u001b[0m\n",
      "\u001b[0;31mTypeError\u001b[0m: Can't convert 'list' object to str implicitly"
     ]
    }
   ],
   "source": [
    "string = \"\"\n",
    "citiesPop = []\n",
    "with open(folder+fileName + '.tsp', 'r') as f:\n",
    "    lines = f.readlines()[6:-1]\n",
    "    for i in range(index):\n",
    "        if(i < len(lines)):\n",
    "            line = lines[i]\n",
    "            strippedArr = line.strip().split(' ')\n",
    "            row =  [x for x in strippedArr if x]\n",
    "            if(len(row) > 1):\n",
    "                citiesPop.append(City(float(row[0]), float(row[1]), row[2].replace('\\n','')))\n",
    "\n",
    "f.close()"
   ]
  },
  {
   "cell_type": "code",
   "execution_count": 101,
   "metadata": {
    "collapsed": false
   },
   "outputs": [
    {
     "name": "stdout",
     "output_type": "stream",
     "text": [
      "20985.0\n"
     ]
    }
   ],
   "source": [
    "def calculateDistance(population, cities):\n",
    "    distance = 0\n",
    "    for i, val in enumerate(population):\n",
    "        if(i != len(population)-1):\n",
    "            currentCityIndex = population[i].index\n",
    "            nextCityIndex = population[i+1].index\n",
    "            distance += float(cities[currentCityIndex][nextCityIndex])\n",
    "    return distance\n",
    "\n",
    "print(calculateDistance(citiesPop, arrayTSP))"
   ]
  },
  {
   "cell_type": "code",
   "execution_count": 136,
   "metadata": {
    "collapsed": false
   },
   "outputs": [],
   "source": [
    "\n",
    "# Generate population\n",
    "class OrderOfPopulation():\n",
    "    sum = 0\n",
    "    def __init__(self, population, cities):\n",
    "        self.cities = cities\n",
    "        self.population = population\n",
    "        distance = self.calculateDistance(population)\n",
    "        self.distance = distance\n",
    "        self.fitness = self.calculateFitness(distance)\n",
    "        \n",
    "    def calculateFitness(self, distance):\n",
    "        #our score is distance which less means better thats why we divide it\n",
    "        return 1/distance\n",
    "    \n",
    "    def calculateDistance(self, population):\n",
    "        distance = 0\n",
    "        for i, val in enumerate(population):\n",
    "            if(i != len(population)-1):\n",
    "                currentCityIndex = population[i].index\n",
    "                nextCityIndex = population[i+1].index\n",
    "                try:\n",
    "                    distance += float(self.cities[currentCityIndex][nextCityIndex])\n",
    "                except IndexError:\n",
    "                    print(population[i].index, population[i+1].index, len(self.cities[currentCityIndex]), self.cities[currentCityIndex])\n",
    "#                 if(len(self.cities) < currentCityIndex and len(self.cities[currentCityIndex]) < nextCityIndex):\n",
    "#                     distance += float(self.cities[currentCityIndex][nextCityIndex])\n",
    "        \n",
    "        return distance\n",
    "    \n",
    "    def setProb(self, sum):\n",
    "        self.prob = self.fitness / sum\n",
    "\n",
    "    def setDistance(self, distance):\n",
    "        self.distance = distance\n",
    "    \n"
   ]
  },
  {
   "cell_type": "markdown",
   "metadata": {},
   "source": [
    "# Creating 1st population"
   ]
  },
  {
   "cell_type": "code",
   "execution_count": 175,
   "metadata": {
    "collapsed": false
   },
   "outputs": [
    {
     "name": "stdout",
     "output_type": "stream",
     "text": [
      "0.00017398988791432861\n",
      "1.0\n"
     ]
    }
   ],
   "source": [
    "def getPopulation(cities, iteration):\n",
    "    population = []\n",
    "    for i in range(iteration):\n",
    "        np.random.shuffle(cities)\n",
    "        p = OrderOfPopulation(cities, arrayTSP)\n",
    "        \n",
    "        population.append(p)\n",
    "    return population;\n",
    "\n",
    "# we set how many random city configuration will be in the population\n",
    "numberOfPopulation = 5\n",
    "cityPopulation = getPopulation(citiesPop, numberOfPopulation)\n",
    "# set probability (normalize fitness score)\n",
    "# so we have values in between 0-1 \n",
    "sum = 0\n",
    "for i, val in enumerate(cityPopulation):\n",
    "    sum = sum + val.fitness\n",
    "print(sum)\n",
    "\n",
    "sumProb = 0\n",
    "for i, val in enumerate(cityPopulation):\n",
    "    val.setProb(sum)\n",
    "    sumProb = sumProb + val.prob\n",
    "    \n",
    "print(sumProb)"
   ]
  },
  {
   "cell_type": "markdown",
   "metadata": {},
   "source": [
    "# Finding the best Individual in the population after 1st population"
   ]
  },
  {
   "cell_type": "code",
   "execution_count": 176,
   "metadata": {
    "collapsed": false
   },
   "outputs": [
    {
     "name": "stdout",
     "output_type": "stream",
     "text": [
      "26067.0\n"
     ]
    }
   ],
   "source": [
    "bestPopulation = None\n",
    "bestDistance = 0\n",
    "\n",
    "def getBestFitnessScore(population):\n",
    "    global bestDistance\n",
    "    global bestPopulation\n",
    "\n",
    "    for i, val in enumerate(population):\n",
    "        if(bestPopulation == None or bestDistance > population[i].distance):\n",
    "            bestDistance = population[i].distance\n",
    "            bestPopulation = population[i]\n",
    "    \n",
    "    return bestPopulation\n",
    "    \n",
    "\n",
    "bestPopulation = getBestFitnessScore(cityPopulation)\n",
    "\n",
    "print(bestPopulation.distance)"
   ]
  },
  {
   "cell_type": "code",
   "execution_count": 10,
   "metadata": {
    "collapsed": false
   },
   "outputs": [],
   "source": [
    "# picks number randomly  but with different probability for each element\n",
    "def pickOne(list, prob):\n",
    "    index = 0\n",
    "    r = random.uniform(0, 1)\n",
    "    while(r > 0.99):\n",
    "        r = r - prob\n",
    "        index+=1\n",
    "    index-=1\n",
    "    return list[index]"
   ]
  },
  {
   "cell_type": "code",
   "execution_count": 11,
   "metadata": {
    "collapsed": true
   },
   "outputs": [],
   "source": [
    "def swap(list, indexA, indexB):\n",
    "    tempA = list[indexA]\n",
    "    list[indexA] = list[indexB]\n",
    "    list[indexB] = tempA"
   ]
  },
  {
   "cell_type": "code",
   "execution_count": 157,
   "metadata": {
    "collapsed": false
   },
   "outputs": [
    {
     "name": "stdout",
     "output_type": "stream",
     "text": [
      "[1, 2, 3, 4, 5, 6, 7, 8, 9, 10]\n"
     ]
    }
   ],
   "source": [
    "mutationRate = 0.015\n",
    "def mutate(order):\n",
    "    indexA = math.floor(np.random.uniform(0, len(order)))\n",
    "    indexB = math.floor(np.random.uniform(0, len(order)))\n",
    "    if(np.random.uniform(0,1) < mutationRate):\n",
    "        swap(order, indexA, indexB)\n",
    "\n",
    "arr = [1,2,3,4,5,6,7,8,9,10]\n",
    "arr2 = [8,2,10,4,5,9,7,3,6,1]\n",
    "mutate(arr)\n",
    "print(arr)\n",
    "# print(crossover(arr, arr2))"
   ]
  },
  {
   "cell_type": "markdown",
   "metadata": {},
   "source": [
    "# Crossover"
   ]
  },
  {
   "cell_type": "markdown",
   "metadata": {},
   "source": [
    "##### Typical crossover looks like this\n",
    "We take half of <b>parentA</b> and 2nd half of <b>parentB</b>, and We combine them"
   ]
  },
  {
   "cell_type": "code",
   "execution_count": 13,
   "metadata": {
    "collapsed": false
   },
   "outputs": [
    {
     "data": {
      "image/jpeg": "[encoded data removed]",
      "text/plain": [
       "<IPython.core.display.Image object>"
      ]
     },
     "execution_count": 13,
     "metadata": {},
     "output_type": "execute_result"
    }
   ],
   "source": [
    "Image(filename='crossover2.jpg')"
   ]
  },
  {
   "cell_type": "markdown",
   "metadata": {},
   "source": [
    " Our crossover takes half of <b>parentA</b> and fills rest of the offspring with <b>parentB</b> that didn't occured in array. <br>\n",
    " We do it because every element is unique so We can't have duplicates\n"
   ]
  },
  {
   "cell_type": "code",
   "execution_count": 14,
   "metadata": {
    "collapsed": false
   },
   "outputs": [],
   "source": [
    "from random import shuffle\n",
    "def crossover(orderA, orderB):\n",
    "    indexOfHalf = math.floor(len(orderA)/2)\n",
    "    partOfA = orderA[0:indexOfHalf]\n",
    "    partOfB = []\n",
    "    for i in orderB:\n",
    "        if i not in partOfA:\n",
    "            partOfB.append(i)\n",
    "#     x = [[i] for i in range(10)]\n",
    "#     shuffle(partOfA)\n",
    "    return partOfA + partOfB"
   ]
  },
  {
   "cell_type": "code",
   "execution_count": 182,
   "metadata": {
    "collapsed": false
   },
   "outputs": [],
   "source": [
    "def getFittest(population):\n",
    "    # sorts the list based on the routes' lengths\n",
    "    sorted_list = sorted(population, key=lambda x: x.fitness, reverse=True)\n",
    "    return sorted_list[:2]"
   ]
  },
  {
   "cell_type": "code",
   "execution_count": 174,
   "metadata": {
    "collapsed": false
   },
   "outputs": [],
   "source": [
    "def newGeneration(orders):\n",
    "    global arrayTSP\n",
    "    global sum\n",
    "    newOrders = []\n",
    "    for i, citiesOrder in enumerate(orders):\n",
    "#         orderA = pickOne(orders, citiesOrder.prob)\n",
    "#         orderB = pickOne(orders, citiesOrder.prob)\n",
    "        \n",
    "        orderA = random.choice(orders)\n",
    "        orderB = random.choice(orders)\n",
    "#         bestFit = getFittest(orders)\n",
    "#         orderA = bestFit[0]\n",
    "#         orderB = bestFit[1]\n",
    "\n",
    "        mixedOrder = crossover(orderA.population, orderB.population)\n",
    "    \n",
    "        mutate(mixedOrder)\n",
    "        mutate(mixedOrder)\n",
    "        p = OrderOfPopulation(mixedOrder, arrayTSP)\n",
    "        p.setProb(sum)\n",
    "        newOrders.append(p)\n",
    "    return newOrders"
   ]
  },
  {
   "cell_type": "markdown",
   "metadata": {},
   "source": [
    "# Create new generation "
   ]
  },
  {
   "cell_type": "code",
   "execution_count": 177,
   "metadata": {
    "collapsed": false
   },
   "outputs": [
    {
     "name": "stderr",
     "output_type": "stream",
     "text": [
      "\n",
      "  0%|          | 0/500000 [00:00<?, ?it/s]"
     ]
    },
    {
     "name": "stdout",
     "output_type": "stream",
     "text": [
      "26067.0\n"
     ]
    },
    {
     "name": "stderr",
     "output_type": "stream",
     "text": [
      "\n",
      "  0%|          | 247/500000 [00:00<03:22, 2463.80it/s]\n",
      "  0%|          | 453/500000 [00:00<03:34, 2324.87it/s]\n",
      "  0%|          | 690/500000 [00:00<03:33, 2336.39it/s]\n",
      "  0%|          | 881/500000 [00:00<03:48, 2187.73it/s]\n",
      "  0%|          | 1116/500000 [00:00<03:43, 2232.32it/s]\n",
      "  0%|          | 1365/500000 [00:00<03:36, 2302.13it/s]\n",
      "  0%|          | 1614/500000 [00:00<03:31, 2353.67it/s]\n",
      "  0%|          | 1868/500000 [00:00<03:27, 2404.45it/s]\n",
      "  0%|          | 2127/500000 [00:00<03:22, 2455.39it/s]\n",
      "  0%|          | 2368/500000 [00:01<03:23, 2439.50it/s]\n",
      "  6%|▌         | 29206/500000 [00:11<02:55, 2687.22it/s]"
     ]
    },
    {
     "name": "stdout",
     "output_type": "stream",
     "text": [
      "26065.0\n",
      "25940.0\n",
      "25452.0\n",
      "25189.0\n",
      "25045.0\n",
      "24680.0\n",
      "24027.0\n",
      "24008.0\n",
      "23308.0\n"
     ]
    },
    {
     "name": "stderr",
     "output_type": "stream",
     "text": [
      "\r",
      "  6%|▌         | 29475/500000 [00:11<03:08, 2494.82it/s]"
     ]
    },
    {
     "name": "stdout",
     "output_type": "stream",
     "text": [
      "22409.0\n",
      "22272.0\n",
      "22085.0\n",
      "21955.0\n"
     ]
    },
    {
     "name": "stderr",
     "output_type": "stream",
     "text": [
      "\r",
      "  6%|▌         | 29728/500000 [00:11<03:26, 2282.52it/s]"
     ]
    },
    {
     "name": "stdout",
     "output_type": "stream",
     "text": [
      "21210.0\n",
      "21077.0\n",
      "20992.0\n",
      "20179.0\n"
     ]
    },
    {
     "name": "stderr",
     "output_type": "stream",
     "text": [
      "\r",
      "  6%|▌         | 29962/500000 [00:11<03:28, 2254.38it/s]"
     ]
    },
    {
     "name": "stdout",
     "output_type": "stream",
     "text": [
      "19362.0\n",
      "19093.0\n",
      "18522.0\n"
     ]
    },
    {
     "name": "stderr",
     "output_type": "stream",
     "text": [
      "\r",
      "  6%|▌         | 30193/500000 [00:11<03:27, 2269.01it/s]"
     ]
    },
    {
     "name": "stdout",
     "output_type": "stream",
     "text": [
      "18258.0\n"
     ]
    },
    {
     "name": "stderr",
     "output_type": "stream",
     "text": [
      "\r",
      "  6%|▌         | 30434/500000 [00:11<03:23, 2304.37it/s]"
     ]
    },
    {
     "name": "stdout",
     "output_type": "stream",
     "text": [
      "18148.0\n",
      "18050.0\n",
      "17859.0\n",
      "17491.0\n",
      "17439.0\n"
     ]
    },
    {
     "name": "stderr",
     "output_type": "stream",
     "text": [
      "\r",
      "  6%|▌         | 30667/500000 [00:11<03:28, 2253.00it/s]"
     ]
    },
    {
     "name": "stdout",
     "output_type": "stream",
     "text": [
      "17374.0\n",
      "17304.0\n"
     ]
    },
    {
     "name": "stderr",
     "output_type": "stream",
     "text": [
      "\r",
      "  6%|▌         | 30902/500000 [00:11<03:25, 2278.68it/s]"
     ]
    },
    {
     "name": "stdout",
     "output_type": "stream",
     "text": [
      "17258.0\n",
      "17222.0\n"
     ]
    },
    {
     "name": "stderr",
     "output_type": "stream",
     "text": [
      "  6%|▋         | 31675/500000 [00:12<03:08, 2480.77it/s]"
     ]
    },
    {
     "name": "stdout",
     "output_type": "stream",
     "text": [
      "17202.0\n",
      "17198.0\n"
     ]
    },
    {
     "name": "stderr",
     "output_type": "stream",
     "text": [
      "\r",
      "  6%|▋         | 31926/500000 [00:12<03:08, 2483.68it/s]"
     ]
    },
    {
     "name": "stdout",
     "output_type": "stream",
     "text": [
      "17166.0\n",
      "17138.0\n",
      "16965.0\n",
      "16951.0\n"
     ]
    },
    {
     "name": "stderr",
     "output_type": "stream",
     "text": [
      "\r",
      "  6%|▋         | 32176/500000 [00:12<03:12, 2428.67it/s]"
     ]
    },
    {
     "name": "stdout",
     "output_type": "stream",
     "text": [
      "16803.0\n",
      "16775.0\n",
      "16680.0\n",
      "16587.0\n",
      "16141.0\n"
     ]
    },
    {
     "name": "stderr",
     "output_type": "stream",
     "text": [
      "\r",
      "  6%|▋         | 32421/500000 [00:12<03:26, 2267.17it/s]"
     ]
    },
    {
     "name": "stdout",
     "output_type": "stream",
     "text": [
      "16075.0\n",
      "16070.0\n"
     ]
    },
    {
     "name": "stderr",
     "output_type": "stream",
     "text": [
      "\r",
      "  7%|▋         | 32656/500000 [00:12<03:24, 2289.48it/s]"
     ]
    },
    {
     "name": "stdout",
     "output_type": "stream",
     "text": [
      "16031.0\n"
     ]
    },
    {
     "name": "stderr",
     "output_type": "stream",
     "text": [
      "\r",
      "  7%|▋         | 32888/500000 [00:12<03:28, 2243.06it/s]"
     ]
    },
    {
     "name": "stdout",
     "output_type": "stream",
     "text": [
      "15982.0\n",
      "15933.0\n"
     ]
    },
    {
     "name": "stderr",
     "output_type": "stream",
     "text": [
      "\r",
      "  7%|▋         | 33115/500000 [00:12<03:29, 2226.44it/s]"
     ]
    },
    {
     "name": "stdout",
     "output_type": "stream",
     "text": [
      "15931.0\n",
      "15914.0\n"
     ]
    },
    {
     "name": "stderr",
     "output_type": "stream",
     "text": [
      "\r",
      "  7%|▋         | 33339/500000 [00:12<03:40, 2120.66it/s]"
     ]
    },
    {
     "name": "stdout",
     "output_type": "stream",
     "text": [
      "15873.0\n"
     ]
    },
    {
     "name": "stderr",
     "output_type": "stream",
     "text": [
      "  7%|▋         | 33847/500000 [00:13<03:21, 2315.14it/s]"
     ]
    },
    {
     "name": "stdout",
     "output_type": "stream",
     "text": [
      "15797.0\n",
      "15731.0\n",
      "15698.0\n"
     ]
    },
    {
     "name": "stderr",
     "output_type": "stream",
     "text": [
      "\r",
      "  7%|▋         | 34093/500000 [00:13<03:18, 2351.58it/s]"
     ]
    },
    {
     "name": "stdout",
     "output_type": "stream",
     "text": [
      "15664.0\n",
      "15572.0\n",
      "15516.0\n",
      "15511.0\n"
     ]
    },
    {
     "name": "stderr",
     "output_type": "stream",
     "text": [
      "  7%|▋         | 34579/500000 [00:13<03:18, 2349.15it/s]"
     ]
    },
    {
     "name": "stdout",
     "output_type": "stream",
     "text": [
      "15488.0\n",
      "15380.0\n",
      "15314.0\n"
     ]
    },
    {
     "name": "stderr",
     "output_type": "stream",
     "text": [
      "\r",
      "  7%|▋         | 34816/500000 [00:13<03:18, 2339.91it/s]"
     ]
    },
    {
     "name": "stdout",
     "output_type": "stream",
     "text": [
      "14988.0\n",
      "14958.0\n"
     ]
    },
    {
     "name": "stderr",
     "output_type": "stream",
     "text": [
      "\r",
      "  7%|▋         | 35077/500000 [00:13<03:12, 2414.87it/s]"
     ]
    },
    {
     "name": "stdout",
     "output_type": "stream",
     "text": [
      "14522.0\n"
     ]
    },
    {
     "name": "stderr",
     "output_type": "stream",
     "text": [
      "\r",
      "  7%|▋         | 35346/500000 [00:13<03:06, 2490.25it/s]"
     ]
    },
    {
     "name": "stdout",
     "output_type": "stream",
     "text": [
      "14477.0\n"
     ]
    },
    {
     "name": "stderr",
     "output_type": "stream",
     "text": [
      "\r",
      "  7%|▋         | 35613/500000 [00:13<03:02, 2539.88it/s]"
     ]
    },
    {
     "name": "stdout",
     "output_type": "stream",
     "text": [
      "14150.0\n",
      "13926.0\n",
      "13887.0\n"
     ]
    },
    {
     "name": "stderr",
     "output_type": "stream",
     "text": [
      "\r",
      "  7%|▋         | 35869/500000 [00:13<03:04, 2513.79it/s]"
     ]
    },
    {
     "name": "stdout",
     "output_type": "stream",
     "text": [
      "13853.0\n",
      "13845.0\n"
     ]
    },
    {
     "name": "stderr",
     "output_type": "stream",
     "text": [
      "  7%|▋         | 36892/500000 [00:14<03:02, 2538.25it/s]"
     ]
    },
    {
     "name": "stdout",
     "output_type": "stream",
     "text": [
      "13346.0\n",
      "13281.0\n"
     ]
    },
    {
     "name": "stderr",
     "output_type": "stream",
     "text": [
      "\r",
      "  7%|▋         | 37147/500000 [00:14<03:03, 2521.63it/s]"
     ]
    },
    {
     "name": "stdout",
     "output_type": "stream",
     "text": [
      "13234.0\n"
     ]
    },
    {
     "name": "stderr",
     "output_type": "stream",
     "text": [
      "  8%|▊         | 38725/500000 [00:15<03:09, 2433.47it/s]"
     ]
    },
    {
     "name": "stdout",
     "output_type": "stream",
     "text": [
      "13230.0\n"
     ]
    },
    {
     "name": "stderr",
     "output_type": "stream",
     "text": [
      "\r",
      "  8%|▊         | 38981/500000 [00:15<03:06, 2468.42it/s]"
     ]
    },
    {
     "name": "stdout",
     "output_type": "stream",
     "text": [
      "13016.0\n"
     ]
    },
    {
     "name": "stderr",
     "output_type": "stream",
     "text": [
      "\r",
      "  8%|▊         | 39229/500000 [00:15<03:11, 2405.07it/s]"
     ]
    },
    {
     "name": "stdout",
     "output_type": "stream",
     "text": [
      "12743.0\n"
     ]
    },
    {
     "name": "stderr",
     "output_type": "stream",
     "text": [
      "  8%|▊         | 40314/500000 [00:15<02:54, 2633.75it/s]"
     ]
    },
    {
     "name": "stdout",
     "output_type": "stream",
     "text": [
      "12728.0\n"
     ]
    },
    {
     "name": "stderr",
     "output_type": "stream",
     "text": [
      "  8%|▊         | 40849/500000 [00:15<02:53, 2653.12it/s]"
     ]
    },
    {
     "name": "stdout",
     "output_type": "stream",
     "text": [
      "12703.0\n",
      "12590.0\n"
     ]
    },
    {
     "name": "stderr",
     "output_type": "stream",
     "text": [
      "  9%|▊         | 42735/500000 [00:16<02:52, 2652.55it/s]"
     ]
    },
    {
     "name": "stdout",
     "output_type": "stream",
     "text": [
      "12491.0\n"
     ]
    },
    {
     "name": "stderr",
     "output_type": "stream",
     "text": [
      "\r",
      "  9%|▊         | 43003/500000 [00:16<02:51, 2658.50it/s]"
     ]
    },
    {
     "name": "stdout",
     "output_type": "stream",
     "text": [
      "12329.0\n",
      "12286.0\n"
     ]
    },
    {
     "name": "stderr",
     "output_type": "stream",
     "text": [
      "  9%|▊         | 43536/500000 [00:16<02:53, 2628.38it/s]"
     ]
    },
    {
     "name": "stdout",
     "output_type": "stream",
     "text": [
      "12103.0\n"
     ]
    },
    {
     "name": "stderr",
     "output_type": "stream",
     "text": [
      "  9%|▉         | 44348/500000 [00:17<02:51, 2657.53it/s]"
     ]
    },
    {
     "name": "stdout",
     "output_type": "stream",
     "text": [
      "12100.0\n",
      "12074.0\n"
     ]
    },
    {
     "name": "stderr",
     "output_type": "stream",
     "text": [
      "\r",
      "  9%|▉         | 44615/500000 [00:17<02:54, 2616.02it/s]"
     ]
    },
    {
     "name": "stdout",
     "output_type": "stream",
     "text": [
      "12068.0\n",
      "12040.0\n"
     ]
    },
    {
     "name": "stderr",
     "output_type": "stream",
     "text": [
      "  9%|▉         | 45142/500000 [00:17<02:55, 2593.35it/s]"
     ]
    },
    {
     "name": "stdout",
     "output_type": "stream",
     "text": [
      "11986.0\n",
      "11979.0\n"
     ]
    },
    {
     "name": "stderr",
     "output_type": "stream",
     "text": [
      "\r",
      "  9%|▉         | 45402/500000 [00:17<02:57, 2555.13it/s]"
     ]
    },
    {
     "name": "stdout",
     "output_type": "stream",
     "text": [
      "11893.0\n"
     ]
    },
    {
     "name": "stderr",
     "output_type": "stream",
     "text": [
      "  9%|▉         | 45946/500000 [00:17<02:52, 2638.23it/s]"
     ]
    },
    {
     "name": "stdout",
     "output_type": "stream",
     "text": [
      "11886.0\n"
     ]
    },
    {
     "name": "stderr",
     "output_type": "stream",
     "text": [
      "  9%|▉         | 47019/500000 [00:18<02:49, 2671.92it/s]"
     ]
    },
    {
     "name": "stdout",
     "output_type": "stream",
     "text": [
      "11760.0\n",
      "11719.0\n",
      "11707.0\n"
     ]
    },
    {
     "name": "stderr",
     "output_type": "stream",
     "text": [
      "\r",
      "  9%|▉         | 47287/500000 [00:18<02:54, 2590.63it/s]"
     ]
    },
    {
     "name": "stdout",
     "output_type": "stream",
     "text": [
      "11592.0\n"
     ]
    },
    {
     "name": "stderr",
     "output_type": "stream",
     "text": [
      "\r",
      " 10%|▉         | 47547/500000 [00:18<02:55, 2575.69it/s]"
     ]
    },
    {
     "name": "stdout",
     "output_type": "stream",
     "text": [
      "11581.0\n",
      "11569.0\n"
     ]
    },
    {
     "name": "stderr",
     "output_type": "stream",
     "text": [
      "\r",
      " 10%|▉         | 47807/500000 [00:18<02:55, 2580.65it/s]"
     ]
    },
    {
     "name": "stdout",
     "output_type": "stream",
     "text": [
      "11414.0\n"
     ]
    },
    {
     "name": "stderr",
     "output_type": "stream",
     "text": [
      " 10%|▉         | 48613/500000 [00:18<02:50, 2654.04it/s]"
     ]
    },
    {
     "name": "stdout",
     "output_type": "stream",
     "text": [
      "11227.0\n"
     ]
    },
    {
     "name": "stderr",
     "output_type": "stream",
     "text": [
      " 10%|▉         | 49155/500000 [00:19<02:49, 2667.08it/s]"
     ]
    },
    {
     "name": "stdout",
     "output_type": "stream",
     "text": [
      "10938.0\n"
     ]
    },
    {
     "name": "stderr",
     "output_type": "stream",
     "text": [
      " 10%|█         | 51038/500000 [00:19<02:49, 2648.08it/s]"
     ]
    },
    {
     "name": "stdout",
     "output_type": "stream",
     "text": [
      "10933.0\n",
      "10904.0\n"
     ]
    },
    {
     "name": "stderr",
     "output_type": "stream",
     "text": [
      " 11%|█         | 52921/500000 [00:20<02:52, 2596.86it/s]"
     ]
    },
    {
     "name": "stdout",
     "output_type": "stream",
     "text": [
      "10894.0\n"
     ]
    },
    {
     "name": "stderr",
     "output_type": "stream",
     "text": [
      " 12%|█▏        | 57806/500000 [00:22<02:44, 2692.26it/s]"
     ]
    },
    {
     "name": "stdout",
     "output_type": "stream",
     "text": [
      "10209.0\n"
     ]
    },
    {
     "name": "stderr",
     "output_type": "stream",
     "text": [
      "\r",
      " 12%|█▏        | 58076/500000 [00:22<02:51, 2583.92it/s]"
     ]
    },
    {
     "name": "stdout",
     "output_type": "stream",
     "text": [
      "10202.0\n"
     ]
    },
    {
     "name": "stderr",
     "output_type": "stream",
     "text": [
      " 12%|█▏        | 58602/500000 [00:22<02:50, 2587.08it/s]"
     ]
    },
    {
     "name": "stdout",
     "output_type": "stream",
     "text": [
      "10155.0\n"
     ]
    },
    {
     "name": "stderr",
     "output_type": "stream",
     "text": [
      "\r",
      " 12%|█▏        | 58870/500000 [00:22<02:48, 2612.23it/s]"
     ]
    },
    {
     "name": "stdout",
     "output_type": "stream",
     "text": [
      "10115.0\n"
     ]
    },
    {
     "name": "stderr",
     "output_type": "stream",
     "text": [
      " 12%|█▏        | 62085/500000 [00:23<02:45, 2640.93it/s]"
     ]
    },
    {
     "name": "stdout",
     "output_type": "stream",
     "text": [
      "10090.0\n"
     ]
    },
    {
     "name": "stderr",
     "output_type": "stream",
     "text": [
      " 13%|█▎        | 65558/500000 [00:25<02:47, 2595.64it/s]"
     ]
    },
    {
     "name": "stdout",
     "output_type": "stream",
     "text": [
      "10083.0\n"
     ]
    },
    {
     "name": "stderr",
     "output_type": "stream",
     "text": [
      " 14%|█▍        | 71251/500000 [00:27<02:38, 2699.97it/s]"
     ]
    },
    {
     "name": "stdout",
     "output_type": "stream",
     "text": [
      "10056.0\n"
     ]
    },
    {
     "name": "stderr",
     "output_type": "stream",
     "text": [
      " 15%|█▍        | 73167/500000 [00:28<02:37, 2706.75it/s]"
     ]
    },
    {
     "name": "stdout",
     "output_type": "stream",
     "text": [
      "9995.0\n"
     ]
    },
    {
     "name": "stderr",
     "output_type": "stream",
     "text": [
      " 15%|█▍        | 73706/500000 [00:28<02:39, 2668.08it/s]"
     ]
    },
    {
     "name": "stdout",
     "output_type": "stream",
     "text": [
      "9981.0\n"
     ]
    },
    {
     "name": "stderr",
     "output_type": "stream",
     "text": [
      " 15%|█▌        | 75048/500000 [00:28<02:39, 2656.50it/s]"
     ]
    },
    {
     "name": "stdout",
     "output_type": "stream",
     "text": [
      "9936.0\n"
     ]
    },
    {
     "name": "stderr",
     "output_type": "stream",
     "text": [
      " 16%|█▌        | 78305/500000 [00:29<02:34, 2736.48it/s]"
     ]
    },
    {
     "name": "stdout",
     "output_type": "stream",
     "text": [
      "9829.0\n"
     ]
    },
    {
     "name": "stderr",
     "output_type": "stream",
     "text": [
      " 16%|█▌        | 80481/500000 [00:30<02:35, 2701.18it/s]"
     ]
    },
    {
     "name": "stdout",
     "output_type": "stream",
     "text": [
      "9818.0\n"
     ]
    },
    {
     "name": "stderr",
     "output_type": "stream",
     "text": [
      " 17%|█▋        | 86216/500000 [00:32<02:31, 2730.21it/s]"
     ]
    },
    {
     "name": "stdout",
     "output_type": "stream",
     "text": [
      "9757.0\n"
     ]
    },
    {
     "name": "stderr",
     "output_type": "stream",
     "text": [
      "\r",
      " 17%|█▋        | 86490/500000 [00:33<02:31, 2726.45it/s]"
     ]
    },
    {
     "name": "stdout",
     "output_type": "stream",
     "text": [
      "9716.0\n"
     ]
    },
    {
     "name": "stderr",
     "output_type": "stream",
     "text": [
      "\r",
      " 17%|█▋        | 86763/500000 [00:33<02:32, 2711.40it/s]"
     ]
    },
    {
     "name": "stdout",
     "output_type": "stream",
     "text": [
      "9709.0\n"
     ]
    },
    {
     "name": "stderr",
     "output_type": "stream",
     "text": [
      "\r",
      " 17%|█▋        | 87035/500000 [00:33<02:34, 2680.89it/s]"
     ]
    },
    {
     "name": "stdout",
     "output_type": "stream",
     "text": [
      "9672.0\n"
     ]
    },
    {
     "name": "stderr",
     "output_type": "stream",
     "text": [
      " 18%|█▊        | 88662/500000 [00:33<02:32, 2702.90it/s]"
     ]
    },
    {
     "name": "stdout",
     "output_type": "stream",
     "text": [
      "9593.0\n"
     ]
    },
    {
     "name": "stderr",
     "output_type": "stream",
     "text": [
      " 18%|█▊        | 92088/500000 [00:35<02:35, 2615.36it/s]"
     ]
    },
    {
     "name": "stdout",
     "output_type": "stream",
     "text": [
      "9584.0\n",
      "9564.0\n"
     ]
    },
    {
     "name": "stderr",
     "output_type": "stream",
     "text": [
      " 19%|█▊        | 93424/500000 [00:35<02:32, 2663.63it/s]"
     ]
    },
    {
     "name": "stdout",
     "output_type": "stream",
     "text": [
      "9536.0\n"
     ]
    },
    {
     "name": "stderr",
     "output_type": "stream",
     "text": [
      "\r",
      " 19%|█▊        | 93691/500000 [00:35<02:33, 2643.62it/s]"
     ]
    },
    {
     "name": "stdout",
     "output_type": "stream",
     "text": [
      "9531.0\n"
     ]
    },
    {
     "name": "stderr",
     "output_type": "stream",
     "text": [
      "\r",
      " 19%|█▉        | 93956/500000 [00:35<02:35, 2619.61it/s]"
     ]
    },
    {
     "name": "stdout",
     "output_type": "stream",
     "text": [
      "9525.0\n"
     ]
    },
    {
     "name": "stderr",
     "output_type": "stream",
     "text": [
      " 19%|█▉        | 95748/500000 [00:36<02:41, 2499.12it/s]"
     ]
    },
    {
     "name": "stdout",
     "output_type": "stream",
     "text": [
      "9518.0\n"
     ]
    },
    {
     "name": "stderr",
     "output_type": "stream",
     "text": [
      " 20%|█▉        | 99246/500000 [00:37<02:30, 2666.28it/s]"
     ]
    },
    {
     "name": "stdout",
     "output_type": "stream",
     "text": [
      "9436.0\n"
     ]
    },
    {
     "name": "stderr",
     "output_type": "stream",
     "text": [
      " 20%|██        | 100056/500000 [00:38<02:30, 2660.99it/s]"
     ]
    },
    {
     "name": "stdout",
     "output_type": "stream",
     "text": [
      "9333.0\n"
     ]
    },
    {
     "name": "stderr",
     "output_type": "stream",
     "text": [
      " 22%|██▏       | 107713/500000 [00:41<02:24, 2721.66it/s]"
     ]
    },
    {
     "name": "stdout",
     "output_type": "stream",
     "text": [
      "9274.0\n"
     ]
    },
    {
     "name": "stderr",
     "output_type": "stream",
     "text": [
      " 22%|██▏       | 108261/500000 [00:41<02:24, 2704.39it/s]"
     ]
    },
    {
     "name": "stdout",
     "output_type": "stream",
     "text": [
      "9244.0\n"
     ]
    },
    {
     "name": "stderr",
     "output_type": "stream",
     "text": [
      " 22%|██▏       | 112225/500000 [00:42<02:37, 2460.82it/s]"
     ]
    },
    {
     "name": "stdout",
     "output_type": "stream",
     "text": [
      "9239.0\n"
     ]
    },
    {
     "name": "stderr",
     "output_type": "stream",
     "text": [
      " 25%|██▍       | 124402/500000 [00:47<02:20, 2674.26it/s]"
     ]
    },
    {
     "name": "stdout",
     "output_type": "stream",
     "text": [
      "9129.0\n"
     ]
    },
    {
     "name": "stderr",
     "output_type": "stream",
     "text": [
      " 25%|██▌       | 125460/500000 [00:47<02:26, 2549.71it/s]"
     ]
    },
    {
     "name": "stdout",
     "output_type": "stream",
     "text": [
      "9094.0\n"
     ]
    },
    {
     "name": "stderr",
     "output_type": "stream",
     "text": [
      " 26%|██▌       | 130285/500000 [00:49<02:27, 2510.88it/s]"
     ]
    },
    {
     "name": "stdout",
     "output_type": "stream",
     "text": [
      "9089.0\n"
     ]
    },
    {
     "name": "stderr",
     "output_type": "stream",
     "text": [
      " 26%|██▌       | 131048/500000 [00:50<02:34, 2385.89it/s]"
     ]
    },
    {
     "name": "stdout",
     "output_type": "stream",
     "text": [
      "9055.0\n"
     ]
    },
    {
     "name": "stderr",
     "output_type": "stream",
     "text": [
      "\r",
      " 26%|██▋       | 131317/500000 [00:50<02:29, 2468.06it/s]"
     ]
    },
    {
     "name": "stdout",
     "output_type": "stream",
     "text": [
      "9000.0\n"
     ]
    },
    {
     "name": "stderr",
     "output_type": "stream",
     "text": [
      " 29%|██▉       | 145090/500000 [00:55<02:15, 2611.92it/s]"
     ]
    },
    {
     "name": "stdout",
     "output_type": "stream",
     "text": [
      "8997.0\n"
     ]
    },
    {
     "name": "stderr",
     "output_type": "stream",
     "text": [
      " 32%|███▏      | 158508/500000 [01:00<02:06, 2690.77it/s]"
     ]
    },
    {
     "name": "stdout",
     "output_type": "stream",
     "text": [
      "8996.0\n",
      "8973.0\n"
     ]
    },
    {
     "name": "stderr",
     "output_type": "stream",
     "text": [
      "100%|██████████| 500000/500000 [03:08<00:00, 2648.51it/s]\n"
     ]
    }
   ],
   "source": [
    "numberOfGenerations = 100\n",
    "length = len(arrayTSP)\n",
    "if(length < 800):\n",
    "    numberOfGenerations = 3000\n",
    "if(length < 100):\n",
    "    numberOfGenerations = 500000\n",
    "#20 3000000\n",
    "scoreTest = 99999999999\n",
    "for i in tqdm(range(numberOfGenerations)):\n",
    "    cityPopulation = newGeneration(cityPopulation)\n",
    "    bestPopulation = getBestFitnessScore(cityPopulation)\n",
    "    cityPopulation = cityPopulation[1:]\n",
    "    cityPopulation.insert(0, bestPopulation)\n",
    "    if(scoreTest > bestPopulation.distance):\n",
    "        scoreTest = bestPopulation.distance\n",
    "        print(scoreTest)\n",
    "    "
   ]
  },
  {
   "cell_type": "markdown",
   "metadata": {},
   "source": [
    "# Finding the best Individual in the population after creating new Generation"
   ]
  },
  {
   "cell_type": "code",
   "execution_count": 178,
   "metadata": {
    "collapsed": false
   },
   "outputs": [
    {
     "name": "stdout",
     "output_type": "stream",
     "text": [
      "8973.0\n"
     ]
    }
   ],
   "source": [
    "bestPopulation = getBestFitnessScore(cityPopulation)\n",
    "print('Best distance - ', bestPopulation.distance)"
   ]
  },
  {
   "cell_type": "markdown",
   "metadata": {},
   "source": [
    "# Visualizing best path"
   ]
  },
  {
   "cell_type": "code",
   "execution_count": 188,
   "metadata": {
    "collapsed": false
   },
   "outputs": [
    {
     "data": {
      "image/png": "[encoded data removed]",
      "text/plain": [
       "<matplotlib.figure.Figure at 0x2780be6a160>"
      ]
     },
     "metadata": {},
     "output_type": "display_data"
    },
    {
     "name": "stdout",
     "output_type": "stream",
     "text": [
      "saved to wynik_-f\n"
     ]
    }
   ],
   "source": [
    "import matplotlib.pyplot as plt\n",
    "\n",
    "# display all cities\n",
    "def displayBestPopulation():\n",
    "    order = []\n",
    "    for i, city in enumerate(bestPopulation.population):\n",
    "        plt.plot(city.x, city.y, 'ro-')\n",
    "        if (i+1) <= (len(bestPopulation.population)-1):\n",
    "            nextCity = bestPopulation.population[i+1];\n",
    "            order.append(city.index)\n",
    "            plt.plot([city.x, nextCity.x],[city.y,nextCity.y],'k-')\n",
    "\n",
    "    plt.show()\n",
    "    order = np.array(order)\n",
    "    np.savetxt(\"wynik_\"+ fileName +\".txt\", order, fmt=\"%d\")\n",
    "    print('Saved to wynik_'+fileName)\n",
    "\n",
    "displayBestPopulation()"
   ]
  }
 ],
 "metadata": {
  "anaconda-cloud": {},
  "kernelspec": {
   "display_name": "Python [conda root]",
   "language": "python",
   "name": "conda-root-py"
  },
  "language_info": {
   "codemirror_mode": {
    "name": "ipython",
    "version": 3
   },
   "file_extension": ".py",
   "mimetype": "text/x-python",
   "name": "python",
   "nbconvert_exporter": "python",
   "pygments_lexer": "ipython3",
   "version": "3.5.2"
  }
 },
 "nbformat": 4,
 "nbformat_minor": 1
}
